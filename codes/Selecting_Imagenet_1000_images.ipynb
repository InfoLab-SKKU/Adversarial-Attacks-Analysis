{
 "cells": [
  {
   "cell_type": "markdown",
   "metadata": {},
   "source": [
    "### Black Box Attacks and Defenses "
   ]
  },
  {
   "cell_type": "markdown",
   "metadata": {},
   "source": [
    "## Selecting 1000 images from ImageNet"
   ]
  },
  {
   "cell_type": "code",
   "execution_count": 1,
   "metadata": {},
   "outputs": [],
   "source": [
    "import torch.nn as nn\n",
    "import torch.nn.functional as F\n",
    "import torch.optim as optim\n",
    "import numpy as np\n",
    "from PIL import Image\n",
    "from torchvision import transforms\n",
    "import torchvision.models as models\n",
    "\n",
    "import matplotlib.pyplot as plt \n",
    "from datetime import datetime\n",
    "import warnings\n",
    "warnings.filterwarnings('ignore')"
   ]
  },
  {
   "cell_type": "code",
   "execution_count": 2,
   "metadata": {},
   "outputs": [],
   "source": [
    "from art.estimators.classification import PyTorchClassifier"
   ]
  },
  {
   "cell_type": "code",
   "execution_count": 3,
   "metadata": {},
   "outputs": [],
   "source": [
    "preprocess = transforms.Compose([\n",
    "    transforms.Resize(224),\n",
    "    transforms.CenterCrop(224),\n",
    "    transforms.ToTensor(),\n",
    "    # transforms.Normalize(mean=[0.485, 0.456, 0.406], std=[0.229, 0.224, 0.225]),\n",
    "])"
   ]
  },
  {
   "cell_type": "code",
   "execution_count": 4,
   "metadata": {},
   "outputs": [],
   "source": [
    "def softmax_activation(inputs): \n",
    "    inputs = inputs.tolist()\n",
    "    exp_values = np.exp(inputs - np.max(inputs)) \n",
    "    # Normalize \n",
    "    probabilities = exp_values / np.sum(exp_values)\n",
    "\n",
    "    return probabilities"
   ]
  },
  {
   "cell_type": "code",
   "execution_count": 5,
   "metadata": {},
   "outputs": [],
   "source": [
    "IMAGE_DIR = 'data/imagenetv2/imagenetv2-top-images-format-val'"
   ]
  },
  {
   "cell_type": "markdown",
   "metadata": {},
   "source": [
    "### Loading Models "
   ]
  },
  {
   "cell_type": "code",
   "execution_count": 6,
   "metadata": {},
   "outputs": [],
   "source": [
    "resnet18 = models.resnet18(pretrained=True) \n",
    "resnet34 = models.resnet34(pretrained=True) \n",
    "resnet50 = models.resnet50(pretrained=True) \n",
    "resnet101 = models.resnet101(pretrained=True)\n",
    "resnet152 = models.resnet152(pretrained=True)  \n",
    "\n",
    "vgg11 = models.vgg11(pretrained=True)\n",
    "vgg13 = models.vgg13(pretrained=True)\n",
    "vgg16 = models.vgg16(pretrained=True)\n",
    "vgg19 = models.vgg19(pretrained=True)\n",
    "\n",
    "densenet121 = models.densenet161(pretrained=True)\n",
    "densenet161 = models.densenet161(pretrained=True)\n",
    "densenet169 = models.densenet161(pretrained=True)\n",
    "densenet201 = models.densenet161(pretrained=True)"
   ]
  },
  {
   "cell_type": "code",
   "execution_count": 7,
   "metadata": {},
   "outputs": [],
   "source": [
    "models_list = [resnet18, resnet34, resnet50, resnet101, resnet152, \n",
    "               vgg11, vgg13, vgg16, vgg19,\n",
    "               densenet121, densenet161, densenet169, densenet201] "
   ]
  },
  {
   "cell_type": "code",
   "execution_count": 8,
   "metadata": {},
   "outputs": [],
   "source": [
    "def select_images(models_list, num_images): \n",
    "    image_path_list = [] \n",
    "    for i in range (0, 10): \n",
    "        for j in range(0, 1000): \n",
    "            try: \n",
    "                image_path = IMAGE_DIR + '/{}/{}.jpeg'.format(j, i)\n",
    "                input_image = Image.open(image_path) \n",
    "                input_tensor = preprocess(input_image)\n",
    "                input_batch = input_tensor.unsqueeze(0).numpy().astype(np.float32)\n",
    "                criterion = nn.CrossEntropyLoss()\n",
    "\n",
    "                selected = True \n",
    "                for model in models_list: \n",
    "                    # Create the ART classifier\n",
    "                    classifier = PyTorchClassifier(\n",
    "                        model=model,\n",
    "                        loss=criterion,\n",
    "                        input_shape=(3, 224, 224),\n",
    "                        nb_classes=1000,\n",
    "                        device_type='gpu'\n",
    "                    )\n",
    "                    prediction = classifier.predict(input_batch) \n",
    "                    predicted_label = np.argmax(prediction, axis=1)[0] \n",
    "                    accuracy = round(np.max(softmax_activation(prediction), axis=1)[0] * 100, 2)  \n",
    "\n",
    "                    if predicted_label != j or accuracy < 65.0: \n",
    "                        selected = False \n",
    "        \n",
    "                if selected: \n",
    "                    image_path_list.append('/{}/{}.jpeg'.format(j, i))\n",
    "                    if len(image_path_list)%20 == 0: \n",
    "                        print (\"Completed: {}/{}\".format(len(image_path_list), num_images))\n",
    "\n",
    "                    if len(image_path_list) == num_images: \n",
    "                        return image_path_list\n",
    "            except: \n",
    "                print (\"Error: File does not appear to exist.\")\n",
    "\n",
    "    return image_path_list"
   ]
  },
  {
   "cell_type": "code",
   "execution_count": 9,
   "metadata": {},
   "outputs": [
    {
     "name": "stdout",
     "output_type": "stream",
     "text": [
      "Completed: 20/1000\n",
      "Completed: 40/1000\n",
      "Completed: 60/1000\n",
      "Completed: 80/1000\n",
      "Error: File does not appear to exist.\n",
      "Completed: 100/1000\n",
      "Completed: 120/1000\n",
      "Completed: 140/1000\n",
      "Completed: 160/1000\n",
      "Completed: 180/1000\n",
      "Completed: 200/1000\n",
      "Completed: 220/1000\n",
      "Completed: 240/1000\n",
      "Completed: 260/1000\n",
      "Completed: 280/1000\n",
      "Completed: 300/1000\n",
      "Completed: 320/1000\n",
      "Completed: 340/1000\n",
      "Completed: 360/1000\n",
      "Completed: 380/1000\n",
      "Completed: 400/1000\n",
      "Completed: 420/1000\n",
      "Completed: 440/1000\n",
      "Completed: 460/1000\n",
      "Completed: 480/1000\n",
      "Completed: 500/1000\n",
      "Completed: 520/1000\n",
      "Completed: 540/1000\n",
      "Completed: 560/1000\n",
      "Completed: 580/1000\n",
      "Completed: 600/1000\n",
      "Completed: 620/1000\n",
      "Completed: 640/1000\n",
      "Completed: 660/1000\n",
      "Completed: 680/1000\n",
      "Completed: 700/1000\n",
      "Completed: 720/1000\n",
      "Completed: 740/1000\n",
      "Completed: 760/1000\n",
      "Completed: 780/1000\n",
      "Completed: 800/1000\n",
      "Completed: 820/1000\n",
      "Completed: 840/1000\n",
      "Completed: 860/1000\n",
      "Completed: 880/1000\n",
      "Completed: 900/1000\n",
      "Completed: 920/1000\n",
      "Completed: 940/1000\n",
      "Completed: 960/1000\n",
      "Completed: 980/1000\n",
      "Completed: 1000/1000\n"
     ]
    }
   ],
   "source": [
    "images_list = select_images(models_list, 1000)"
   ]
  },
  {
   "cell_type": "code",
   "execution_count": 11,
   "metadata": {},
   "outputs": [],
   "source": [
    "IMAGE_DIR = 'data'\n",
    "\n",
    "file_path = \"{}/1000_images_paths_3_filter65.txt\".format(IMAGE_DIR)\n",
    "with open(file_path, \"w\") as output:\n",
    "    output.write(str(images_list))"
   ]
  },
  {
   "cell_type": "code",
   "execution_count": null,
   "metadata": {},
   "outputs": [],
   "source": []
  }
 ],
 "metadata": {
  "kernelspec": {
   "display_name": "Python 3",
   "language": "python",
   "name": "python3"
  },
  "language_info": {
   "codemirror_mode": {
    "name": "ipython",
    "version": 3
   },
   "file_extension": ".py",
   "mimetype": "text/x-python",
   "name": "python",
   "nbconvert_exporter": "python",
   "pygments_lexer": "ipython3",
   "version": "3.7.10"
  }
 },
 "nbformat": 4,
 "nbformat_minor": 5
}
