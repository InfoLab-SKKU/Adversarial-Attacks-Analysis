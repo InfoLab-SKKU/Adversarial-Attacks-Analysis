{
  "nbformat": 4,
  "nbformat_minor": 0,
  "metadata": {
    "colab": {
      "name": "Model Size Test.ipynb",
      "provenance": []
    },
    "kernelspec": {
      "name": "python3",
      "display_name": "Python 3"
    },
    "language_info": {
      "name": "python"
    }
  },
  "cells": [
    {
      "cell_type": "code",
      "metadata": {
        "id": "4MSNhTOHmTpN"
      },
      "source": [
        "import torchvision.models as models "
      ],
      "execution_count": 21,
      "outputs": []
    },
    {
      "cell_type": "code",
      "metadata": {
        "id": "dpMJyWHxTFiw"
      },
      "source": [
        "from torchsummary import summary"
      ],
      "execution_count": 22,
      "outputs": []
    },
    {
      "cell_type": "code",
      "metadata": {
        "id": "Pjqd5L4mS0L4"
      },
      "source": [
        "model = models.vgg19(pretrained=True) "
      ],
      "execution_count": 60,
      "outputs": []
    },
    {
      "cell_type": "code",
      "metadata": {
        "id": "c6BaiYhfWFQd"
      },
      "source": [
        "pytorch_total_params = sum(p.numel() for p in model.parameters()) "
      ],
      "execution_count": 61,
      "outputs": []
    },
    {
      "cell_type": "code",
      "metadata": {
        "colab": {
          "base_uri": "https://localhost:8080/"
        },
        "id": "KuMNGD4lWJve",
        "outputId": "e7d54fad-84f4-47e8-d9e3-9d0fdf026651"
      },
      "source": [
        "pytorch_total_params"
      ],
      "execution_count": 62,
      "outputs": [
        {
          "output_type": "execute_result",
          "data": {
            "text/plain": [
              "143667240"
            ]
          },
          "metadata": {},
          "execution_count": 62
        }
      ]
    },
    {
      "cell_type": "code",
      "metadata": {
        "id": "43LxgLWyYGCO"
      },
      "source": [
        ""
      ],
      "execution_count": null,
      "outputs": []
    }
  ]
}