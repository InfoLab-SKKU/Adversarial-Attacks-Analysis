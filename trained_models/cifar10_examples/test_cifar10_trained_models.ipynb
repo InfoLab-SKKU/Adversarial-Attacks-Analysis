{
 "cells": [
  {
   "cell_type": "markdown",
   "metadata": {
    "id": "tQF8-Op4LPRT"
   },
   "source": [
    "## <font color='purple'> **Testing CIFAR-10 trained models** "
   ]
  },
  {
   "cell_type": "code",
   "execution_count": 12,
   "metadata": {
    "id": "xqkNEMlQAmQ5"
   },
   "outputs": [],
   "source": [
    "import os \n",
    "\n",
    "from PIL import Image\n",
    "import numpy as np\n",
    "import matplotlib.pyplot as plt"
   ]
  },
  {
   "cell_type": "code",
   "execution_count": 13,
   "metadata": {
    "id": "UtOOb8GiRPvF"
   },
   "outputs": [],
   "source": [
    "import torch\n",
    "import torch.nn as nn\n",
    "import torch.nn.functional as F\n",
    "import torchvision.transforms as transforms"
   ]
  },
  {
   "cell_type": "code",
   "execution_count": 3,
   "metadata": {
    "id": "tuJ2TQYn9lDr"
   },
   "outputs": [],
   "source": [
    "### import archetecture of models \n",
    "\n",
    "from models.vgg_models import * \n",
    "\n",
    "## you can test followings as well: \n",
    "# from models.resnet_models import * \n",
    "# from models.densenet_models import * \n",
    "# from models.mobilenet_models import * \n",
    "# from models.mobilenetV2_models import * \n",
    "# from models.googlenet_models import *  \n",
    "# ..."
   ]
  },
  {
   "cell_type": "code",
   "execution_count": 5,
   "metadata": {
    "id": "xdsd0axWP284"
   },
   "outputs": [],
   "source": [
    "## getting the archetecture of model from models.vgg_models \n",
    "vgg19_model = VGG('VGG19')\n",
    "\n",
    "## you can test followings as well:  \n",
    "# vgg11_model = VGG('VGG11')\n",
    "# vgg16_model = VGG('VGG16')\n",
    "# resnet18_model = ResNet18()\n",
    "# resnet50_model = ResNet50() \n",
    "# densenet121_model = DenseNet121() \n",
    "# mobilenet_model = MobileNet()\n",
    "# mobilenetV2_model = MobileNetV2() \n",
    "# googlenet_model = GoogleNet() \n",
    "# ... \n"
   ]
  },
  {
   "cell_type": "code",
   "execution_count": 6,
   "metadata": {
    "colab": {
     "base_uri": "https://localhost:8080/"
    },
    "id": "Qp9QuNwhWGsi",
    "outputId": "11555a2f-f38c-4583-b43d-611aaf043440"
   },
   "outputs": [
    {
     "data": {
      "text/plain": [
       "VGG(\n",
       "  (features): Sequential(\n",
       "    (0): Conv2d(3, 64, kernel_size=(3, 3), stride=(1, 1), padding=(1, 1))\n",
       "    (1): BatchNorm2d(64, eps=1e-05, momentum=0.1, affine=True, track_running_stats=True)\n",
       "    (2): ReLU(inplace=True)\n",
       "    (3): Conv2d(64, 64, kernel_size=(3, 3), stride=(1, 1), padding=(1, 1))\n",
       "    (4): BatchNorm2d(64, eps=1e-05, momentum=0.1, affine=True, track_running_stats=True)\n",
       "    (5): ReLU(inplace=True)\n",
       "    (6): MaxPool2d(kernel_size=2, stride=2, padding=0, dilation=1, ceil_mode=False)\n",
       "    (7): Conv2d(64, 128, kernel_size=(3, 3), stride=(1, 1), padding=(1, 1))\n",
       "    (8): BatchNorm2d(128, eps=1e-05, momentum=0.1, affine=True, track_running_stats=True)\n",
       "    (9): ReLU(inplace=True)\n",
       "    (10): Conv2d(128, 128, kernel_size=(3, 3), stride=(1, 1), padding=(1, 1))\n",
       "    (11): BatchNorm2d(128, eps=1e-05, momentum=0.1, affine=True, track_running_stats=True)\n",
       "    (12): ReLU(inplace=True)\n",
       "    (13): MaxPool2d(kernel_size=2, stride=2, padding=0, dilation=1, ceil_mode=False)\n",
       "    (14): Conv2d(128, 256, kernel_size=(3, 3), stride=(1, 1), padding=(1, 1))\n",
       "    (15): BatchNorm2d(256, eps=1e-05, momentum=0.1, affine=True, track_running_stats=True)\n",
       "    (16): ReLU(inplace=True)\n",
       "    (17): Conv2d(256, 256, kernel_size=(3, 3), stride=(1, 1), padding=(1, 1))\n",
       "    (18): BatchNorm2d(256, eps=1e-05, momentum=0.1, affine=True, track_running_stats=True)\n",
       "    (19): ReLU(inplace=True)\n",
       "    (20): Conv2d(256, 256, kernel_size=(3, 3), stride=(1, 1), padding=(1, 1))\n",
       "    (21): BatchNorm2d(256, eps=1e-05, momentum=0.1, affine=True, track_running_stats=True)\n",
       "    (22): ReLU(inplace=True)\n",
       "    (23): Conv2d(256, 256, kernel_size=(3, 3), stride=(1, 1), padding=(1, 1))\n",
       "    (24): BatchNorm2d(256, eps=1e-05, momentum=0.1, affine=True, track_running_stats=True)\n",
       "    (25): ReLU(inplace=True)\n",
       "    (26): MaxPool2d(kernel_size=2, stride=2, padding=0, dilation=1, ceil_mode=False)\n",
       "    (27): Conv2d(256, 512, kernel_size=(3, 3), stride=(1, 1), padding=(1, 1))\n",
       "    (28): BatchNorm2d(512, eps=1e-05, momentum=0.1, affine=True, track_running_stats=True)\n",
       "    (29): ReLU(inplace=True)\n",
       "    (30): Conv2d(512, 512, kernel_size=(3, 3), stride=(1, 1), padding=(1, 1))\n",
       "    (31): BatchNorm2d(512, eps=1e-05, momentum=0.1, affine=True, track_running_stats=True)\n",
       "    (32): ReLU(inplace=True)\n",
       "    (33): Conv2d(512, 512, kernel_size=(3, 3), stride=(1, 1), padding=(1, 1))\n",
       "    (34): BatchNorm2d(512, eps=1e-05, momentum=0.1, affine=True, track_running_stats=True)\n",
       "    (35): ReLU(inplace=True)\n",
       "    (36): Conv2d(512, 512, kernel_size=(3, 3), stride=(1, 1), padding=(1, 1))\n",
       "    (37): BatchNorm2d(512, eps=1e-05, momentum=0.1, affine=True, track_running_stats=True)\n",
       "    (38): ReLU(inplace=True)\n",
       "    (39): MaxPool2d(kernel_size=2, stride=2, padding=0, dilation=1, ceil_mode=False)\n",
       "    (40): Conv2d(512, 512, kernel_size=(3, 3), stride=(1, 1), padding=(1, 1))\n",
       "    (41): BatchNorm2d(512, eps=1e-05, momentum=0.1, affine=True, track_running_stats=True)\n",
       "    (42): ReLU(inplace=True)\n",
       "    (43): Conv2d(512, 512, kernel_size=(3, 3), stride=(1, 1), padding=(1, 1))\n",
       "    (44): BatchNorm2d(512, eps=1e-05, momentum=0.1, affine=True, track_running_stats=True)\n",
       "    (45): ReLU(inplace=True)\n",
       "    (46): Conv2d(512, 512, kernel_size=(3, 3), stride=(1, 1), padding=(1, 1))\n",
       "    (47): BatchNorm2d(512, eps=1e-05, momentum=0.1, affine=True, track_running_stats=True)\n",
       "    (48): ReLU(inplace=True)\n",
       "    (49): Conv2d(512, 512, kernel_size=(3, 3), stride=(1, 1), padding=(1, 1))\n",
       "    (50): BatchNorm2d(512, eps=1e-05, momentum=0.1, affine=True, track_running_stats=True)\n",
       "    (51): ReLU(inplace=True)\n",
       "    (52): MaxPool2d(kernel_size=2, stride=2, padding=0, dilation=1, ceil_mode=False)\n",
       "    (53): AvgPool2d(kernel_size=1, stride=1, padding=0)\n",
       "  )\n",
       "  (classifier): Linear(in_features=512, out_features=10, bias=True)\n",
       ")"
      ]
     },
     "execution_count": 6,
     "metadata": {},
     "output_type": "execute_result"
    }
   ],
   "source": [
    "## layers of model \n",
    "vgg19_model"
   ]
  },
  {
   "cell_type": "code",
   "execution_count": 10,
   "metadata": {
    "colab": {
     "base_uri": "https://localhost:8080/"
    },
    "id": "yHDw5JdfP9nX",
    "outputId": "24eef3e4-5f04-4268-d684-ab4b306b92b8"
   },
   "outputs": [
    {
     "name": "stdout",
     "output_type": "stream",
     "text": [
      "Model is loadded!\n"
     ]
    }
   ],
   "source": [
    "## your directory of trained models  \n",
    "trained_models_directory = \"gdrive/MyDrive/models/\" \n",
    "model_file_name = \"vgg19_cifar10.pth\" \n",
    "device_name = 'cuda:0'\n",
    "\n",
    "path = os.path.join(trained_models_directory, model_file_name) \n",
    "\n",
    "## load the model \n",
    "## map location, we trained models in different GPU (e.g. cuda:1, cuda:2), for that reason you should map your gpu before using  \n",
    "vgg19_model.load_state_dict(torch.load(path, map_location=device_name)['net'])\n",
    "\n",
    "## model in evaluation mode \n",
    "vgg19_model.eval()\n",
    "\n",
    "## state of the models are saved as follow: \n",
    "# state = {\n",
    "#          'net': net.state_dict(),\n",
    "#          'acc': acc,\n",
    "#          'epoch': epoch,\n",
    "#         }\n",
    "\n",
    "print (\"Model is loadded!\")"
   ]
  },
  {
   "cell_type": "code",
   "execution_count": 11,
   "metadata": {
    "colab": {
     "base_uri": "https://localhost:8080/"
    },
    "id": "kKZoX7HaQCPA",
    "outputId": "ded6ed49-f3b9-4236-af31-ab65149f6cdf"
   },
   "outputs": [
    {
     "data": {
      "text/plain": [
       "91.23"
      ]
     },
     "execution_count": 11,
     "metadata": {},
     "output_type": "execute_result"
    }
   ],
   "source": [
    "## you can get accuracy of the model on test \n",
    "torch.load(path, map_location='cuda:0')['acc']"
   ]
  },
  {
   "cell_type": "markdown",
   "metadata": {
    "id": "cE5hnMaQA-X7"
   },
   "source": [
    "### <font color='green'> ***Testing the model*** "
   ]
  },
  {
   "cell_type": "code",
   "execution_count": 14,
   "metadata": {
    "id": "nOrKaxT1_qtJ"
   },
   "outputs": [],
   "source": [
    "transform_test = transforms.Compose([\n",
    "    transforms.ToTensor(),\n",
    "    transforms.Normalize((0.4914, 0.4822, 0.4465), (0.2023, 0.1994, 0.2010)),\n",
    "])"
   ]
  },
  {
   "cell_type": "code",
   "execution_count": 27,
   "metadata": {
    "id": "rQnG06gOAFmZ"
   },
   "outputs": [],
   "source": [
    "### loading test image\n",
    "image_dir = 'example_images' \n",
    "image_name = 'airplane_ex1.png'\n",
    "\n",
    "image_path = os.path.join(image_dir, image_name)\n",
    "\n",
    "input_image = Image.open(image_path) \n",
    "input_tensor = transform_test(input_image)\n",
    "input_batch = input_tensor.unsqueeze(0)"
   ]
  },
  {
   "cell_type": "code",
   "execution_count": 28,
   "metadata": {
    "colab": {
     "base_uri": "https://localhost:8080/",
     "height": 301
    },
    "id": "fsfx8IMZCx5M",
    "outputId": "95745afb-e443-4f2d-a4c0-fd5843347aec"
   },
   "outputs": [
    {
     "name": "stderr",
     "output_type": "stream",
     "text": [
      "Clipping input data to the valid range for imshow with RGB data ([0..1] for floats or [0..255] for integers).\n"
     ]
    },
    {
     "data": {
      "text/plain": [
       "<matplotlib.image.AxesImage at 0x7f54d4e3c510>"
      ]
     },
     "execution_count": 28,
     "metadata": {},
     "output_type": "execute_result"
    },
    {
     "data": {
      "image/png": "[encoded data removed]",
      "text/plain": [
       "<Figure size 432x288 with 1 Axes>"
      ]
     },
     "metadata": {
      "needs_background": "light"
     },
     "output_type": "display_data"
    }
   ],
   "source": [
    "### printing image \n",
    "input = input_batch[0].numpy().astype(np.float32).transpose((1,2,0))\n",
    "\n",
    "plt.imshow(input)"
   ]
  },
  {
   "cell_type": "code",
   "execution_count": 29,
   "metadata": {
    "id": "2mTPvYRGE9UP"
   },
   "outputs": [],
   "source": [
    "## Softmax for getting probability \n",
    "\n",
    "def softmax_activation(inputs): \n",
    "  inputs = inputs.tolist()\n",
    "  exp_values = np.exp(inputs - np.max(inputs)) \n",
    "  # Normalize \n",
    "  probabilities = exp_values / np.sum(exp_values)\n",
    "\n",
    "  return probabilities"
   ]
  },
  {
   "cell_type": "code",
   "execution_count": 30,
   "metadata": {
    "colab": {
     "base_uri": "https://localhost:8080/"
    },
    "id": "8VNFlCx9A5G5",
    "outputId": "6c9aa5eb-0bfd-4ebc-de9a-dec06f9d3008"
   },
   "outputs": [
    {
     "name": "stdout",
     "output_type": "stream",
     "text": [
      "Predicted label: [0], confidence: 100.0%\n"
     ]
    }
   ],
   "source": [
    "predection = vgg19_model(input_batch)\n",
    "\n",
    "probability = np.max(softmax_activation(predection), axis=1)[0]\n",
    "probability = round(probability*100, 2) \n",
    "\n",
    "label = np.argmax(predection.detach().numpy(), axis=1) \n",
    "\n",
    "print(\"Predicted label: {}, confidence: {}%\".format(label, probability))"
   ]
  },
  {
   "cell_type": "markdown",
   "metadata": {
    "id": "LZ2yFesJKVub"
   },
   "source": [
    "#### Labels \n",
    "\n",
    "* Airplane: [0]\n",
    "* Automobile: [1] \n",
    "* Bird:       [2] \n",
    "* Cat:        [3]\n",
    "* Deer: [4]\n",
    "* Dog: [5] \n",
    "* Frog: [6]\n",
    "* Horse: [7] \n",
    "* Ship: [8]\n",
    "* Truck [9]"
   ]
  }
 ],
 "metadata": {
  "accelerator": "GPU",
  "colab": {
   "name": "test_cifar10_trained_models.ipynb",
   "provenance": []
  },
  "kernelspec": {
   "display_name": "Python 3",
   "language": "python",
   "name": "python3"
  },
  "language_info": {
   "codemirror_mode": {
    "name": "ipython",
    "version": 3
   },
   "file_extension": ".py",
   "mimetype": "text/x-python",
   "name": "python",
   "nbconvert_exporter": "python",
   "pygments_lexer": "ipython3",
   "version": "3.7.10"
  }
 },
 "nbformat": 4,
 "nbformat_minor": 1
}
